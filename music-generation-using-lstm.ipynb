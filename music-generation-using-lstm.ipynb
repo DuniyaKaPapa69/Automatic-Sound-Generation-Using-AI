{
 "cells": [
  {
   "cell_type": "markdown",
   "id": "67f536a2",
   "metadata": {
    "papermill": {
     "duration": 0.0116,
     "end_time": "2024-03-26T14:57:38.769097",
     "exception": false,
     "start_time": "2024-03-26T14:57:38.757497",
     "status": "completed"
    },
    "tags": []
   },
   "source": [
    "# 🎵Music🎵 Generation using LSTM Networks"
   ]
  },
  {
   "cell_type": "markdown",
   "id": "455eb720",
   "metadata": {
    "jupyter": {
     "source_hidden": true
    },
    "papermill": {
     "duration": 0.010096,
     "end_time": "2024-03-26T14:57:38.790322",
     "exception": false,
     "start_time": "2024-03-26T14:57:38.780226",
     "status": "completed"
    },
    "tags": []
   },
   "source": [
    "![Kaggle Logo](https://images.pexels.com/photos/164821/pexels-photo-164821.jpeg)"
   ]
  },
  {
   "cell_type": "markdown",
   "id": "f32e50aa",
   "metadata": {
    "papermill": {
     "duration": 0.010437,
     "end_time": "2024-03-26T14:57:38.811630",
     "exception": false,
     "start_time": "2024-03-26T14:57:38.801193",
     "status": "completed"
    },
    "tags": []
   },
   "source": [
    "Music primarily consists of notes and chords, serving as fundamental elements in its composition. Music can be considered as a sequence of these notes and chords. Notes act as the building blocks, conveying both the pitch (or frequency) of the sound and its duration. For example, in “C4”, “C” represents the pitch of the sound and the number “4” represents its duration. On the other hand, chords are formed by playing multiple notes simultaneously. For example, the notation 'A4:G4' represents two notes, 'A4' and 'G4', played together. We can obtain these sequences of notes and chords from MIDI files. The task is how can we use these sequences of notes and chords to train the model and finally use it to generate music.\n",
    "\n",
    "The classical music dataset contains the albums of various musicians. Every album comprises music stored as MIDI files. MIDI (Musical Instrument Digital Interface) serves as a technical specification outlining a communication protocol, digital interface, and electrical connectors. It facilitates the connection of diverse electronic musical instruments, computers, and associated audio devices for the purpose of playing, editing, and recording music. Whenever a musician interacts with a MIDI instrument, whether pressing keys, buttons, or adjusting knobs and sliders, these actions are translated into MIDI data. (source: [MIDI - Wikipedia](https://en.wikipedia.org/wiki/MIDI)).\n",
    "\n",
    "To prepare the music data for training a model like a neural network, the first step involves extracting information from these MIDI files and transforming it into a suitable format. The Python library \"Music21\" proves invaluable for this task, offering a range of tools tailored for working with music data."
   ]
  },
  {
   "cell_type": "markdown",
   "id": "179b3e5d",
   "metadata": {
    "papermill": {
     "duration": 0.01157,
     "end_time": "2024-03-26T14:57:38.833894",
     "exception": false,
     "start_time": "2024-03-26T14:57:38.822324",
     "status": "completed"
    },
    "tags": []
   },
   "source": [
    "## Imports"
   ]
  },
  {
   "cell_type": "code",
   "execution_count": 1,
   "id": "5c81a50b",
   "metadata": {
    "execution": {
     "iopub.execute_input": "2024-03-26T14:57:38.857425Z",
     "iopub.status.busy": "2024-03-26T14:57:38.856988Z",
     "iopub.status.idle": "2024-03-26T14:58:16.372038Z",
     "shell.execute_reply": "2024-03-26T14:58:16.371189Z"
    },
    "papermill": {
     "duration": 37.529934,
     "end_time": "2024-03-26T14:58:16.374655",
     "exception": false,
     "start_time": "2024-03-26T14:57:38.844721",
     "status": "completed"
    },
    "tags": []
   },
   "outputs": [
    {
     "name": "stdout",
     "output_type": "stream",
     "text": [
      "Collecting music21\r\n",
      "  Downloading music21-9.1.0-py3-none-any.whl.metadata (4.8 kB)\r\n",
      "Collecting chardet (from music21)\r\n",
      "  Downloading chardet-5.2.0-py3-none-any.whl.metadata (3.4 kB)\r\n",
      "Requirement already satisfied: joblib in /opt/conda/lib/python3.10/site-packages (from music21) (1.3.2)\r\n",
      "Collecting jsonpickle (from music21)\r\n",
      "  Downloading jsonpickle-3.0.3-py3-none-any.whl.metadata (7.3 kB)\r\n",
      "Requirement already satisfied: matplotlib in /opt/conda/lib/python3.10/site-packages (from music21) (3.7.5)\r\n",
      "Requirement already satisfied: more-itertools in /opt/conda/lib/python3.10/site-packages (from music21) (10.2.0)\r\n",
      "Requirement already satisfied: numpy in /opt/conda/lib/python3.10/site-packages (from music21) (1.26.4)\r\n",
      "Requirement already satisfied: requests in /opt/conda/lib/python3.10/site-packages (from music21) (2.31.0)\r\n",
      "Requirement already satisfied: webcolors>=1.5 in /opt/conda/lib/python3.10/site-packages (from music21) (1.13)\r\n",
      "Requirement already satisfied: contourpy>=1.0.1 in /opt/conda/lib/python3.10/site-packages (from matplotlib->music21) (1.2.0)\r\n",
      "Requirement already satisfied: cycler>=0.10 in /opt/conda/lib/python3.10/site-packages (from matplotlib->music21) (0.12.1)\r\n",
      "Requirement already satisfied: fonttools>=4.22.0 in /opt/conda/lib/python3.10/site-packages (from matplotlib->music21) (4.47.0)\r\n",
      "Requirement already satisfied: kiwisolver>=1.0.1 in /opt/conda/lib/python3.10/site-packages (from matplotlib->music21) (1.4.5)\r\n",
      "Requirement already satisfied: packaging>=20.0 in /opt/conda/lib/python3.10/site-packages (from matplotlib->music21) (21.3)\r\n",
      "Requirement already satisfied: pillow>=6.2.0 in /opt/conda/lib/python3.10/site-packages (from matplotlib->music21) (9.5.0)\r\n",
      "Requirement already satisfied: pyparsing>=2.3.1 in /opt/conda/lib/python3.10/site-packages (from matplotlib->music21) (3.1.1)\r\n",
      "Requirement already satisfied: python-dateutil>=2.7 in /opt/conda/lib/python3.10/site-packages (from matplotlib->music21) (2.9.0.post0)\r\n",
      "Requirement already satisfied: charset-normalizer<4,>=2 in /opt/conda/lib/python3.10/site-packages (from requests->music21) (3.3.2)\r\n",
      "Requirement already satisfied: idna<4,>=2.5 in /opt/conda/lib/python3.10/site-packages (from requests->music21) (3.6)\r\n",
      "Requirement already satisfied: urllib3<3,>=1.21.1 in /opt/conda/lib/python3.10/site-packages (from requests->music21) (1.26.18)\r\n",
      "Requirement already satisfied: certifi>=2017.4.17 in /opt/conda/lib/python3.10/site-packages (from requests->music21) (2024.2.2)\r\n",
      "Requirement already satisfied: six>=1.5 in /opt/conda/lib/python3.10/site-packages (from python-dateutil>=2.7->matplotlib->music21) (1.16.0)\r\n",
      "Downloading music21-9.1.0-py3-none-any.whl (22.8 MB)\r\n",
      "\u001b[2K   \u001b[90m━━━━━━━━━━━━━━━━━━━━━━━━━━━━━━━━━━━━━━━━\u001b[0m \u001b[32m22.8/22.8 MB\u001b[0m \u001b[31m35.4 MB/s\u001b[0m eta \u001b[36m0:00:00\u001b[0m\r\n",
      "\u001b[?25hDownloading chardet-5.2.0-py3-none-any.whl (199 kB)\r\n",
      "\u001b[2K   \u001b[90m━━━━━━━━━━━━━━━━━━━━━━━━━━━━━━━━━━━━━━━━\u001b[0m \u001b[32m199.4/199.4 kB\u001b[0m \u001b[31m12.1 MB/s\u001b[0m eta \u001b[36m0:00:00\u001b[0m\r\n",
      "\u001b[?25hDownloading jsonpickle-3.0.3-py3-none-any.whl (40 kB)\r\n",
      "\u001b[2K   \u001b[90m━━━━━━━━━━━━━━━━━━━━━━━━━━━━━━━━━━━━━━━━\u001b[0m \u001b[32m40.8/40.8 kB\u001b[0m \u001b[31m2.3 MB/s\u001b[0m eta \u001b[36m0:00:00\u001b[0m\r\n",
      "\u001b[?25hInstalling collected packages: jsonpickle, chardet, music21\r\n",
      "Successfully installed chardet-5.2.0 jsonpickle-3.0.3 music21-9.1.0\r\n"
     ]
    },
    {
     "name": "stderr",
     "output_type": "stream",
     "text": [
      "2024-03-26 14:58:04.702712: E external/local_xla/xla/stream_executor/cuda/cuda_dnn.cc:9261] Unable to register cuDNN factory: Attempting to register factory for plugin cuDNN when one has already been registered\n",
      "2024-03-26 14:58:04.702826: E external/local_xla/xla/stream_executor/cuda/cuda_fft.cc:607] Unable to register cuFFT factory: Attempting to register factory for plugin cuFFT when one has already been registered\n",
      "2024-03-26 14:58:04.862721: E external/local_xla/xla/stream_executor/cuda/cuda_blas.cc:1515] Unable to register cuBLAS factory: Attempting to register factory for plugin cuBLAS when one has already been registered\n"
     ]
    }
   ],
   "source": [
    "import os\n",
    "os.chdir('/kaggle/input')\n",
    "!pip install music21 # install music21 module\n",
    "\n",
    "# user defined modules\n",
    "from utils1.music_utils import * # importing all the required modules and user functions\n",
    "from utils1.mytfutils import * # contains tensorflow utils\n",
    "from modelxarchitecture.modelxarchitecture import MyModel"
   ]
  },
  {
   "cell_type": "markdown",
   "id": "2b023285",
   "metadata": {
    "papermill": {
     "duration": 0.012982,
     "end_time": "2024-03-26T14:58:16.400980",
     "exception": false,
     "start_time": "2024-03-26T14:58:16.387998",
     "status": "completed"
    },
    "tags": []
   },
   "source": [
    "## Defining the task"
   ]
  },
  {
   "cell_type": "markdown",
   "id": "ab69460e",
   "metadata": {
    "_kg_hide-input": true,
    "papermill": {
     "duration": 0.012431,
     "end_time": "2024-03-26T14:58:16.426059",
     "exception": false,
     "start_time": "2024-03-26T14:58:16.413628",
     "status": "completed"
    },
    "tags": []
   },
   "source": [
    "To effectively train a model like a neural network using music data extracted from MIDI files for music generation, we need to organize the data into a structured format. This involves defining input features and corresponding labels.\n",
    "\n",
    "The whole process involves:\n",
    "\n",
    "1. Data Preparation: Start by extracting music data from MIDI files. This data typically consists of sequences of notes and chords.\n",
    "\n",
    "2. **Defining inputs and labels: We establish a fixed-length sequence of notes or chords to serve as the input features for each sample. For instance, we might choose a sequence length of 10 elements. The label for a given input sequence is determined as the note or chord immediately following the end of that sequence. This label represents what the model should predict.**\n",
    "\n",
    "3. Training Set Creation: Generate numerous input-output pairs using the fixed-length sequences and their corresponding labels. These pairs constitute our training dataset.\n",
    "\n",
    "4. Training the Model: Train the neural network using the training dataset. During training, the model learns to predict the subsequent musical element based on the preceding sequence.\n",
    "\n",
    "5. Generation: Once the model is trained, it can be used to generate music sequences. To do this, we provide an initial input sequence (seed) to the model, and it predicts the next musical element based on its learned patterns. The predicted element is then added to the input sequence, and the process is repeated iteratively to generate a longer music sequence. By leveraging the knowledge acquired during training, the model can produce new music that follows the style and structure of the training data. This generated music can be further refined or adjusted based on artistic preferences or specific requirements.\n",
    "\n",
    "By structuring the data in this manner and training the model accordingly, we enable it to effectively learn the patterns and relationships within the music sequences, thereby enabling it to generate coherent and meaningful music sequences."
   ]
  },
  {
   "cell_type": "markdown",
   "id": "b65061d7",
   "metadata": {
    "papermill": {
     "duration": 0.012612,
     "end_time": "2024-03-26T14:58:16.451402",
     "exception": false,
     "start_time": "2024-03-26T14:58:16.438790",
     "status": "completed"
    },
    "tags": []
   },
   "source": [
    "## Data Preparation"
   ]
  },
  {
   "cell_type": "markdown",
   "id": "4c851b4d",
   "metadata": {
    "papermill": {
     "duration": 0.012374,
     "end_time": "2024-03-26T14:58:16.476535",
     "exception": false,
     "start_time": "2024-03-26T14:58:16.464161",
     "status": "completed"
    },
    "tags": []
   },
   "source": [
    "#### Creating dataset from midi files"
   ]
  },
  {
   "cell_type": "markdown",
   "id": "44a178f2",
   "metadata": {
    "papermill": {
     "duration": 0.013325,
     "end_time": "2024-03-26T14:58:16.502493",
     "exception": false,
     "start_time": "2024-03-26T14:58:16.489168",
     "status": "completed"
    },
    "tags": []
   },
   "source": [
    "We can extract notes and chords from the MIDI files using the methods from Music21 library. I have created a class named CreateDataset which can be found in utils1.music_utils module. It contains all the methods to extract these notes and chords as strings and more.\\\n",
    "For example,\\\n",
    "'C4', 'D5', 'G3' represent notes\\\n",
    "'A4:G4', 'A4:F5', 'F5:E-5' represent chords\n",
    "\n",
    "We utilize the make_mappings() method from the CreateDataset class to perform various tasks starting from parsing the MIDI files to mapping the extracted notes and chords with unique normalized numbers. The code cell below demonstrates how we can extract notes and chords from the Beethoven music album and create a dataset using the make_mappings() method.\n",
    "\n",
    "##### **By replacing the directory path in the below cell for a different album, we can train the LSTM model with that music. This is the only change you need to make!**\n",
    "In this Notebook, only beeth album is used."
   ]
  },
  {
   "cell_type": "code",
   "execution_count": 2,
   "id": "d120243f",
   "metadata": {
    "execution": {
     "iopub.execute_input": "2024-03-26T14:58:16.531812Z",
     "iopub.status.busy": "2024-03-26T14:58:16.531194Z",
     "iopub.status.idle": "2024-03-26T14:58:24.212443Z",
     "shell.execute_reply": "2024-03-26T14:58:24.211556Z"
    },
    "papermill": {
     "duration": 7.698606,
     "end_time": "2024-03-26T14:58:24.214878",
     "exception": false,
     "start_time": "2024-03-26T14:58:16.516272",
     "status": "completed"
    },
    "tags": []
   },
   "outputs": [],
   "source": [
    "# define args\n",
    "dirpath = \"classical-music-midi/beeth\" # change the dirpath depending on the music album you want to train the model\n",
    "length = 30 # length of the sequence\n",
    "name = os.path.basename(dirpath)\n",
    "in_kaggle = True\n",
    "\n",
    "# process data\n",
    "dataset = CreateDataset(dirpath, length=length, name=name, in_kaggle=in_kaggle)\n",
    "dataset.make_mappings()"
   ]
  },
  {
   "cell_type": "markdown",
   "id": "92cd3f40",
   "metadata": {
    "papermill": {
     "duration": 0.013618,
     "end_time": "2024-03-26T14:58:24.242253",
     "exception": false,
     "start_time": "2024-03-26T14:58:24.228635",
     "status": "completed"
    },
    "tags": []
   },
   "source": [
    "#### Parsed data representations"
   ]
  },
  {
   "cell_type": "code",
   "execution_count": 3,
   "id": "7f6acaf9",
   "metadata": {
    "execution": {
     "iopub.execute_input": "2024-03-26T14:58:24.270935Z",
     "iopub.status.busy": "2024-03-26T14:58:24.270145Z",
     "iopub.status.idle": "2024-03-26T14:58:24.275505Z",
     "shell.execute_reply": "2024-03-26T14:58:24.274542Z"
    },
    "papermill": {
     "duration": 0.022325,
     "end_time": "2024-03-26T14:58:24.278109",
     "exception": false,
     "start_time": "2024-03-26T14:58:24.255784",
     "status": "completed"
    },
    "tags": []
   },
   "outputs": [
    {
     "name": "stdout",
     "output_type": "stream",
     "text": [
      "There are 29 compositions in the beeth album.\n",
      "Length of sequence in first composition: 1586\n",
      "Parsed data representations of first 30 elements: ['D4', 'E-4', 'F4', 'A4:G4', 'F4', 'G4', 'A4', 'B-4', 'F4', 'A4:G4', 'F4', 'G4', 'A4', 'B-4', 'A4', 'B-4', 'C5', 'D5', 'E5', 'B-4:E5', 'A4:F5', 'F5:E-5', 'D5', 'E-5', 'F5', 'G5', 'C5', 'D5:C5', 'B4', 'C5']\n"
     ]
    }
   ],
   "source": [
    "print(f\"There are {len(dataset.notes_chords_list)} compositions in the {name} album.\")\n",
    "print(f\"Length of sequence in first composition: {len(dataset.notes_chords_list[0])}\")\n",
    "print(f\"Parsed data representations of first 30 elements: {dataset.notes_chords_list[0][:30]}\")"
   ]
  },
  {
   "cell_type": "markdown",
   "id": "b6789e61",
   "metadata": {
    "papermill": {
     "duration": 0.013705,
     "end_time": "2024-03-26T14:58:24.305379",
     "exception": false,
     "start_time": "2024-03-26T14:58:24.291674",
     "status": "completed"
    },
    "tags": []
   },
   "source": [
    "When training a neural network, it's essential to provide both input data (features) and their corresponding labels. However, with music data, we encounter sequences instead. To address this, we must determine suitable features and labels. This concept aligns with the essence of music generation, where the objective is to predict the succeeding note or chord based on a given sequence.\n",
    "\n",
    "To achieve this, we select sequences of notes or chords of a fixed length (e.g., 30) from the musical snippet as features. The label is then assigned to the note or chord immediately following the last element of the selected sequence. The dataset as features and labels can be accessed through dataset.features and dataset.labels. Example of a sample of (features, label) is shown below"
   ]
  },
  {
   "cell_type": "code",
   "execution_count": 4,
   "id": "869732a1",
   "metadata": {
    "execution": {
     "iopub.execute_input": "2024-03-26T14:58:24.335751Z",
     "iopub.status.busy": "2024-03-26T14:58:24.334917Z",
     "iopub.status.idle": "2024-03-26T14:58:24.342429Z",
     "shell.execute_reply": "2024-03-26T14:58:24.341572Z"
    },
    "papermill": {
     "duration": 0.024628,
     "end_time": "2024-03-26T14:58:24.344591",
     "exception": false,
     "start_time": "2024-03-26T14:58:24.319963",
     "status": "completed"
    },
    "tags": []
   },
   "outputs": [
    {
     "data": {
      "text/plain": [
       "(array(['D4', 'E-4', 'F4', 'A4:G4', 'F4', 'G4', 'A4', 'B-4', 'F4', 'A4:G4',\n",
       "        'F4', 'G4', 'A4', 'B-4', 'A4', 'B-4', 'C5', 'D5', 'E5', 'B-4:E5',\n",
       "        'A4:F5', 'F5:E-5', 'D5', 'E-5', 'F5', 'G5', 'C5', 'D5:C5', 'B4',\n",
       "        'C5'], dtype='<U29'),\n",
       " 'D5')"
      ]
     },
     "execution_count": 4,
     "metadata": {},
     "output_type": "execute_result"
    }
   ],
   "source": [
    "dataset.features[0], dataset.labels[0] # After parsing"
   ]
  },
  {
   "cell_type": "markdown",
   "id": "44640651",
   "metadata": {
    "papermill": {
     "duration": 0.013541,
     "end_time": "2024-03-26T14:58:24.371754",
     "exception": false,
     "start_time": "2024-03-26T14:58:24.358213",
     "status": "completed"
    },
    "tags": []
   },
   "source": [
    "As we cannot train a model with strings, we need to convert these strings into appropriate numbers. Therefore, I mapped these strings to values ranging from 0.01 to 1.01. Additionally, I one-hot encoded the labels for prediction. The same sample feature and label, as shown above, are converted as follows:"
   ]
  },
  {
   "cell_type": "code",
   "execution_count": 5,
   "id": "0c3c77a9",
   "metadata": {
    "execution": {
     "iopub.execute_input": "2024-03-26T14:58:24.401329Z",
     "iopub.status.busy": "2024-03-26T14:58:24.400675Z",
     "iopub.status.idle": "2024-03-26T14:58:24.408069Z",
     "shell.execute_reply": "2024-03-26T14:58:24.407174Z"
    },
    "papermill": {
     "duration": 0.024438,
     "end_time": "2024-03-26T14:58:24.410319",
     "exception": false,
     "start_time": "2024-03-26T14:58:24.385881",
     "status": "completed"
    },
    "tags": []
   },
   "outputs": [
    {
     "data": {
      "text/plain": [
       "(array([0.44308879, 0.53592967, 0.7696762 , 0.06034151, 0.7696762 ,\n",
       "        0.95738174, 0.04136858, 0.12687326, 0.7696762 , 0.06034151,\n",
       "        0.7696762 , 0.95738174, 0.04136858, 0.12687326, 0.04136858,\n",
       "        0.12687326, 0.38009866, 0.46813306, 0.63180622, 0.1402808 ,\n",
       "        0.05932962, 0.8109107 , 0.46813306, 0.55996205, 0.79775613,\n",
       "        0.97964331, 0.38009866, 0.47648115, 0.20554769, 0.38009866]),\n",
       " array([0., 0., 0., ..., 0., 0., 0.]))"
      ]
     },
     "execution_count": 5,
     "metadata": {},
     "output_type": "execute_result"
    }
   ],
   "source": [
    "dataset.features_normalized[0], dataset.labels_encoded[0] # After mapping to normalized numbers and encoding labels"
   ]
  },
  {
   "cell_type": "markdown",
   "id": "de96933d",
   "metadata": {
    "papermill": {
     "duration": 0.012532,
     "end_time": "2024-03-26T14:58:24.436530",
     "exception": false,
     "start_time": "2024-03-26T14:58:24.423998",
     "status": "completed"
    },
    "tags": []
   },
   "source": [
    "## Creating train and generate sets"
   ]
  },
  {
   "cell_type": "markdown",
   "id": "11a9fe16",
   "metadata": {
    "papermill": {
     "duration": 0.01336,
     "end_time": "2024-03-26T14:58:24.463060",
     "exception": false,
     "start_time": "2024-03-26T14:58:24.449700",
     "status": "completed"
    },
    "tags": []
   },
   "source": [
    "Train set is obviously for training\\\n",
    "Generate set is for generating new pieces of music. Each sample from the generate set can be used to create possibly a new piece of music."
   ]
  },
  {
   "cell_type": "code",
   "execution_count": 6,
   "id": "7aa6402f",
   "metadata": {
    "execution": {
     "iopub.execute_input": "2024-03-26T14:58:24.492557Z",
     "iopub.status.busy": "2024-03-26T14:58:24.491864Z",
     "iopub.status.idle": "2024-03-26T14:58:25.255266Z",
     "shell.execute_reply": "2024-03-26T14:58:25.254357Z"
    },
    "papermill": {
     "duration": 0.781063,
     "end_time": "2024-03-26T14:58:25.257887",
     "exception": false,
     "start_time": "2024-03-26T14:58:24.476824",
     "status": "completed"
    },
    "tags": []
   },
   "outputs": [],
   "source": [
    "test_size = 0.01\n",
    "random_state = 42\n",
    "x_train, x_gen, y_train, y_gen = train_test_split(dataset.features_normalized, dataset.labels_encoded, test_size=test_size, random_state=random_state)"
   ]
  },
  {
   "cell_type": "code",
   "execution_count": 7,
   "id": "1098e187",
   "metadata": {
    "execution": {
     "iopub.execute_input": "2024-03-26T14:58:25.287691Z",
     "iopub.status.busy": "2024-03-26T14:58:25.286968Z",
     "iopub.status.idle": "2024-03-26T14:58:25.292362Z",
     "shell.execute_reply": "2024-03-26T14:58:25.291612Z"
    },
    "papermill": {
     "duration": 0.021857,
     "end_time": "2024-03-26T14:58:25.294421",
     "exception": false,
     "start_time": "2024-03-26T14:58:25.272564",
     "status": "completed"
    },
    "tags": []
   },
   "outputs": [],
   "source": [
    "num_features = 1\n",
    "x_train = x_train.reshape((-1, dataset.length, num_features)) # just making it as an appropriate input to the model\n",
    "np.save(f'/kaggle/working/{dataset.name}_{dataset.length}.npy', x_gen) # saving the gen data for further use "
   ]
  },
  {
   "cell_type": "markdown",
   "id": "92db9022",
   "metadata": {
    "papermill": {
     "duration": 0.014109,
     "end_time": "2024-03-26T14:58:25.322781",
     "exception": false,
     "start_time": "2024-03-26T14:58:25.308672",
     "status": "completed"
    },
    "tags": []
   },
   "source": [
    "## Building and training the model"
   ]
  },
  {
   "cell_type": "markdown",
   "id": "a5409883",
   "metadata": {
    "papermill": {
     "duration": 0.01325,
     "end_time": "2024-03-26T14:58:25.350530",
     "exception": false,
     "start_time": "2024-03-26T14:58:25.337280",
     "status": "completed"
    },
    "tags": []
   },
   "source": [
    "### Model Architecture"
   ]
  },
  {
   "cell_type": "code",
   "execution_count": 8,
   "id": "fd46ed20",
   "metadata": {
    "execution": {
     "iopub.execute_input": "2024-03-26T14:58:25.379356Z",
     "iopub.status.busy": "2024-03-26T14:58:25.378742Z",
     "iopub.status.idle": "2024-03-26T14:58:25.390941Z",
     "shell.execute_reply": "2024-03-26T14:58:25.389899Z"
    },
    "papermill": {
     "duration": 0.029209,
     "end_time": "2024-03-26T14:58:25.393267",
     "exception": false,
     "start_time": "2024-03-26T14:58:25.364058",
     "status": "completed"
    },
    "tags": []
   },
   "outputs": [],
   "source": [
    "@tf.keras.utils.register_keras_serializable()\n",
    "class MyModel(tf.keras.Model):\n",
    "    def __init__(self, input_shape_, input_units, output_units, **kwargs):\n",
    "        \"\"\"\n",
    "            input_shape: A tuple length representing (time_steps, features)\n",
    "            input_units: number of units in the first layer (lstm layer)\n",
    "            output_units: number of units in the output layer\n",
    "        \"\"\"\n",
    "        super(MyModel, self).__init__(**kwargs)\n",
    "        self.input_shape_ = input_shape_\n",
    "        self.input_units = input_units\n",
    "        self.output_units = output_units\n",
    "\n",
    "        # Layers\n",
    "        self.lstm1 = tf.keras.layers.LSTM(self.input_units, input_shape=self.input_shape_, return_sequences=False)\n",
    "        self.dense1 = tf.keras.layers.Dense(512)\n",
    "        self.batchNorm1 = tf.keras.layers.BatchNormalization()\n",
    "        self.dense2 = tf.keras.layers.Dense(448)\n",
    "        self.batchNorm2 = tf.keras.layers.BatchNormalization()\n",
    "        self.dense_output = tf.keras.layers.Dense(self.output_units, activation='softmax')\n",
    "\n",
    "    def call(self, inputs, training=False):    \n",
    "        x = self.lstm1(inputs)\n",
    "        x = self.dense1(x)\n",
    "        x = self.batchNorm1(x, training=training)\n",
    "        x = self.dense2(x)\n",
    "        x = self.batchNorm2(x, training=training)\n",
    "        x = self.dense_output(x)\n",
    "        return x\n",
    "\n",
    "    def get_config(self):\n",
    "        config = super(MyModel, self).get_config()\n",
    "        config.update({\n",
    "            \"input_shape_\":self.input_shape_,\n",
    "            \"input_units\":self.input_units,\n",
    "            \"output_units\":self.output_units\n",
    "        })\n",
    "        return config\n",
    "\n",
    "    @classmethod\n",
    "    def from_config(cls, config):\n",
    "        return cls(**config)"
   ]
  },
  {
   "cell_type": "markdown",
   "id": "b633e8c0",
   "metadata": {
    "papermill": {
     "duration": 0.013655,
     "end_time": "2024-03-26T14:58:25.420964",
     "exception": false,
     "start_time": "2024-03-26T14:58:25.407309",
     "status": "completed"
    },
    "tags": []
   },
   "source": [
    "### Creating the model and training"
   ]
  },
  {
   "cell_type": "code",
   "execution_count": 9,
   "id": "c8578ca9",
   "metadata": {
    "_kg_hide-output": true,
    "execution": {
     "iopub.execute_input": "2024-03-26T14:58:25.449155Z",
     "iopub.status.busy": "2024-03-26T14:58:25.448463Z",
     "iopub.status.idle": "2024-03-26T14:58:25.455115Z",
     "shell.execute_reply": "2024-03-26T14:58:25.454038Z"
    },
    "papermill": {
     "duration": 0.023421,
     "end_time": "2024-03-26T14:58:25.457221",
     "exception": false,
     "start_time": "2024-03-26T14:58:25.433800",
     "status": "completed"
    },
    "tags": []
   },
   "outputs": [],
   "source": [
    "def create_compile_model():\n",
    "    scaling = 4\n",
    "    model_args = {}\n",
    "    model_args[\"input_shape_\"] = x_train.shape[1:]\n",
    "    model_args[\"input_units\"] = len(dataset.mapping)//scaling\n",
    "    model_args[\"output_units\"] = y_train.shape[1]\n",
    "    model = MyModel(**model_args)\n",
    "\n",
    "    compile_args = {}\n",
    "    compile_args[\"loss\"] = 'categorical_crossentropy'\n",
    "    compile_args[\"optimizer\"] = tf.keras.optimizers.Adam(learning_rate=0.001)\n",
    "    model.compile(**compile_args)\n",
    "    return model"
   ]
  },
  {
   "cell_type": "code",
   "execution_count": 10,
   "id": "595d7a34",
   "metadata": {
    "execution": {
     "iopub.execute_input": "2024-03-26T14:58:25.486057Z",
     "iopub.status.busy": "2024-03-26T14:58:25.485506Z",
     "iopub.status.idle": "2024-03-26T14:58:26.215451Z",
     "shell.execute_reply": "2024-03-26T14:58:26.214408Z"
    },
    "papermill": {
     "duration": 0.746664,
     "end_time": "2024-03-26T14:58:26.217851",
     "exception": false,
     "start_time": "2024-03-26T14:58:25.471187",
     "status": "completed"
    },
    "tags": []
   },
   "outputs": [
    {
     "name": "stderr",
     "output_type": "stream",
     "text": [
      "/opt/conda/lib/python3.10/site-packages/keras/src/layers/rnn/rnn.py:205: UserWarning: Do not pass an `input_shape`/`input_dim` argument to a layer. When using Sequential models, prefer using an `Input(shape)` object as the first layer in the model instead.\n",
      "  super().__init__(**kwargs)\n"
     ]
    }
   ],
   "source": [
    "model = create_compile_model()"
   ]
  },
  {
   "cell_type": "markdown",
   "id": "b4be7dc9",
   "metadata": {
    "papermill": {
     "duration": 0.013805,
     "end_time": "2024-03-26T14:58:26.245762",
     "exception": false,
     "start_time": "2024-03-26T14:58:26.231957",
     "status": "completed"
    },
    "tags": []
   },
   "source": [
    "### Model details"
   ]
  },
  {
   "cell_type": "code",
   "execution_count": 11,
   "id": "1b6e7df1",
   "metadata": {
    "execution": {
     "iopub.execute_input": "2024-03-26T14:58:26.274961Z",
     "iopub.status.busy": "2024-03-26T14:58:26.274620Z",
     "iopub.status.idle": "2024-03-26T14:58:28.233354Z",
     "shell.execute_reply": "2024-03-26T14:58:28.232427Z"
    },
    "papermill": {
     "duration": 1.97563,
     "end_time": "2024-03-26T14:58:28.235436",
     "exception": false,
     "start_time": "2024-03-26T14:58:26.259806",
     "status": "completed"
    },
    "tags": []
   },
   "outputs": [
    {
     "data": {
      "text/html": [
       "<pre style=\"white-space:pre;overflow-x:auto;line-height:normal;font-family:Menlo,'DejaVu Sans Mono',consolas,'Courier New',monospace\"><span style=\"font-weight: bold\">Model: \"functional_1\"</span>\n",
       "</pre>\n"
      ],
      "text/plain": [
       "\u001b[1mModel: \"functional_1\"\u001b[0m\n"
      ]
     },
     "metadata": {},
     "output_type": "display_data"
    },
    {
     "data": {
      "text/html": [
       "<pre style=\"white-space:pre;overflow-x:auto;line-height:normal;font-family:Menlo,'DejaVu Sans Mono',consolas,'Courier New',monospace\">┏━━━━━━━━━━━━━━━━━━━━━━━━━━━━━━━━━┳━━━━━━━━━━━━━━━━━━━━━━━━┳━━━━━━━━━━━━━━━┓\n",
       "┃<span style=\"font-weight: bold\"> Layer (type)                    </span>┃<span style=\"font-weight: bold\"> Output Shape           </span>┃<span style=\"font-weight: bold\">       Param # </span>┃\n",
       "┡━━━━━━━━━━━━━━━━━━━━━━━━━━━━━━━━━╇━━━━━━━━━━━━━━━━━━━━━━━━╇━━━━━━━━━━━━━━━┩\n",
       "│ input_layer (<span style=\"color: #0087ff; text-decoration-color: #0087ff\">InputLayer</span>)        │ (<span style=\"color: #00d7ff; text-decoration-color: #00d7ff\">None</span>, <span style=\"color: #00af00; text-decoration-color: #00af00\">30</span>, <span style=\"color: #00af00; text-decoration-color: #00af00\">1</span>)          │             <span style=\"color: #00af00; text-decoration-color: #00af00\">0</span> │\n",
       "├─────────────────────────────────┼────────────────────────┼───────────────┤\n",
       "│ lstm (<span style=\"color: #0087ff; text-decoration-color: #0087ff\">LSTM</span>)                     │ (<span style=\"color: #00d7ff; text-decoration-color: #00d7ff\">None</span>, <span style=\"color: #00af00; text-decoration-color: #00af00\">988</span>)            │     <span style=\"color: #00af00; text-decoration-color: #00af00\">3,912,480</span> │\n",
       "├─────────────────────────────────┼────────────────────────┼───────────────┤\n",
       "│ dense (<span style=\"color: #0087ff; text-decoration-color: #0087ff\">Dense</span>)                   │ (<span style=\"color: #00d7ff; text-decoration-color: #00d7ff\">None</span>, <span style=\"color: #00af00; text-decoration-color: #00af00\">512</span>)            │       <span style=\"color: #00af00; text-decoration-color: #00af00\">506,368</span> │\n",
       "├─────────────────────────────────┼────────────────────────┼───────────────┤\n",
       "│ batch_normalization             │ (<span style=\"color: #00d7ff; text-decoration-color: #00d7ff\">None</span>, <span style=\"color: #00af00; text-decoration-color: #00af00\">512</span>)            │         <span style=\"color: #00af00; text-decoration-color: #00af00\">2,048</span> │\n",
       "│ (<span style=\"color: #0087ff; text-decoration-color: #0087ff\">BatchNormalization</span>)            │                        │               │\n",
       "├─────────────────────────────────┼────────────────────────┼───────────────┤\n",
       "│ dense_1 (<span style=\"color: #0087ff; text-decoration-color: #0087ff\">Dense</span>)                 │ (<span style=\"color: #00d7ff; text-decoration-color: #00d7ff\">None</span>, <span style=\"color: #00af00; text-decoration-color: #00af00\">448</span>)            │       <span style=\"color: #00af00; text-decoration-color: #00af00\">229,824</span> │\n",
       "├─────────────────────────────────┼────────────────────────┼───────────────┤\n",
       "│ batch_normalization_1           │ (<span style=\"color: #00d7ff; text-decoration-color: #00d7ff\">None</span>, <span style=\"color: #00af00; text-decoration-color: #00af00\">448</span>)            │         <span style=\"color: #00af00; text-decoration-color: #00af00\">1,792</span> │\n",
       "│ (<span style=\"color: #0087ff; text-decoration-color: #0087ff\">BatchNormalization</span>)            │                        │               │\n",
       "├─────────────────────────────────┼────────────────────────┼───────────────┤\n",
       "│ dense_2 (<span style=\"color: #0087ff; text-decoration-color: #0087ff\">Dense</span>)                 │ (<span style=\"color: #00d7ff; text-decoration-color: #00d7ff\">None</span>, <span style=\"color: #00af00; text-decoration-color: #00af00\">3916</span>)           │     <span style=\"color: #00af00; text-decoration-color: #00af00\">1,758,284</span> │\n",
       "└─────────────────────────────────┴────────────────────────┴───────────────┘\n",
       "</pre>\n"
      ],
      "text/plain": [
       "┏━━━━━━━━━━━━━━━━━━━━━━━━━━━━━━━━━┳━━━━━━━━━━━━━━━━━━━━━━━━┳━━━━━━━━━━━━━━━┓\n",
       "┃\u001b[1m \u001b[0m\u001b[1mLayer (type)                   \u001b[0m\u001b[1m \u001b[0m┃\u001b[1m \u001b[0m\u001b[1mOutput Shape          \u001b[0m\u001b[1m \u001b[0m┃\u001b[1m \u001b[0m\u001b[1m      Param #\u001b[0m\u001b[1m \u001b[0m┃\n",
       "┡━━━━━━━━━━━━━━━━━━━━━━━━━━━━━━━━━╇━━━━━━━━━━━━━━━━━━━━━━━━╇━━━━━━━━━━━━━━━┩\n",
       "│ input_layer (\u001b[38;5;33mInputLayer\u001b[0m)        │ (\u001b[38;5;45mNone\u001b[0m, \u001b[38;5;34m30\u001b[0m, \u001b[38;5;34m1\u001b[0m)          │             \u001b[38;5;34m0\u001b[0m │\n",
       "├─────────────────────────────────┼────────────────────────┼───────────────┤\n",
       "│ lstm (\u001b[38;5;33mLSTM\u001b[0m)                     │ (\u001b[38;5;45mNone\u001b[0m, \u001b[38;5;34m988\u001b[0m)            │     \u001b[38;5;34m3,912,480\u001b[0m │\n",
       "├─────────────────────────────────┼────────────────────────┼───────────────┤\n",
       "│ dense (\u001b[38;5;33mDense\u001b[0m)                   │ (\u001b[38;5;45mNone\u001b[0m, \u001b[38;5;34m512\u001b[0m)            │       \u001b[38;5;34m506,368\u001b[0m │\n",
       "├─────────────────────────────────┼────────────────────────┼───────────────┤\n",
       "│ batch_normalization             │ (\u001b[38;5;45mNone\u001b[0m, \u001b[38;5;34m512\u001b[0m)            │         \u001b[38;5;34m2,048\u001b[0m │\n",
       "│ (\u001b[38;5;33mBatchNormalization\u001b[0m)            │                        │               │\n",
       "├─────────────────────────────────┼────────────────────────┼───────────────┤\n",
       "│ dense_1 (\u001b[38;5;33mDense\u001b[0m)                 │ (\u001b[38;5;45mNone\u001b[0m, \u001b[38;5;34m448\u001b[0m)            │       \u001b[38;5;34m229,824\u001b[0m │\n",
       "├─────────────────────────────────┼────────────────────────┼───────────────┤\n",
       "│ batch_normalization_1           │ (\u001b[38;5;45mNone\u001b[0m, \u001b[38;5;34m448\u001b[0m)            │         \u001b[38;5;34m1,792\u001b[0m │\n",
       "│ (\u001b[38;5;33mBatchNormalization\u001b[0m)            │                        │               │\n",
       "├─────────────────────────────────┼────────────────────────┼───────────────┤\n",
       "│ dense_2 (\u001b[38;5;33mDense\u001b[0m)                 │ (\u001b[38;5;45mNone\u001b[0m, \u001b[38;5;34m3916\u001b[0m)           │     \u001b[38;5;34m1,758,284\u001b[0m │\n",
       "└─────────────────────────────────┴────────────────────────┴───────────────┘\n"
      ]
     },
     "metadata": {},
     "output_type": "display_data"
    },
    {
     "data": {
      "text/html": [
       "<pre style=\"white-space:pre;overflow-x:auto;line-height:normal;font-family:Menlo,'DejaVu Sans Mono',consolas,'Courier New',monospace\"><span style=\"font-weight: bold\"> Total params: </span><span style=\"color: #00af00; text-decoration-color: #00af00\">6,410,796</span> (24.46 MB)\n",
       "</pre>\n"
      ],
      "text/plain": [
       "\u001b[1m Total params: \u001b[0m\u001b[38;5;34m6,410,796\u001b[0m (24.46 MB)\n"
      ]
     },
     "metadata": {},
     "output_type": "display_data"
    },
    {
     "data": {
      "text/html": [
       "<pre style=\"white-space:pre;overflow-x:auto;line-height:normal;font-family:Menlo,'DejaVu Sans Mono',consolas,'Courier New',monospace\"><span style=\"font-weight: bold\"> Trainable params: </span><span style=\"color: #00af00; text-decoration-color: #00af00\">6,408,876</span> (24.45 MB)\n",
       "</pre>\n"
      ],
      "text/plain": [
       "\u001b[1m Trainable params: \u001b[0m\u001b[38;5;34m6,408,876\u001b[0m (24.45 MB)\n"
      ]
     },
     "metadata": {},
     "output_type": "display_data"
    },
    {
     "data": {
      "text/html": [
       "<pre style=\"white-space:pre;overflow-x:auto;line-height:normal;font-family:Menlo,'DejaVu Sans Mono',consolas,'Courier New',monospace\"><span style=\"font-weight: bold\"> Non-trainable params: </span><span style=\"color: #00af00; text-decoration-color: #00af00\">1,920</span> (7.50 KB)\n",
       "</pre>\n"
      ],
      "text/plain": [
       "\u001b[1m Non-trainable params: \u001b[0m\u001b[38;5;34m1,920\u001b[0m (7.50 KB)\n"
      ]
     },
     "metadata": {},
     "output_type": "display_data"
    }
   ],
   "source": [
    "inputs = tf.keras.Input(shape=x_train.shape[1:])\n",
    "outputs = model(inputs)\n",
    "intermediary_outputs = []\n",
    "for layer in model.layers:\n",
    "    inputs = layer(inputs)\n",
    "    intermediary_outputs.append(inputs)\n",
    "new_model = tf.keras.Model(inputs=model.input, outputs=intermediary_outputs)\n",
    "new_model.summary()"
   ]
  },
  {
   "cell_type": "markdown",
   "id": "9263ae62",
   "metadata": {
    "papermill": {
     "duration": 0.017282,
     "end_time": "2024-03-26T14:58:28.268335",
     "exception": false,
     "start_time": "2024-03-26T14:58:28.251053",
     "status": "completed"
    },
    "tags": []
   },
   "source": [
    "### Training the model"
   ]
  },
  {
   "cell_type": "code",
   "execution_count": 12,
   "id": "5845517d",
   "metadata": {
    "execution": {
     "iopub.execute_input": "2024-03-26T14:58:28.299534Z",
     "iopub.status.busy": "2024-03-26T14:58:28.299157Z",
     "iopub.status.idle": "2024-03-26T14:58:28.304996Z",
     "shell.execute_reply": "2024-03-26T14:58:28.304010Z"
    },
    "papermill": {
     "duration": 0.023953,
     "end_time": "2024-03-26T14:58:28.307247",
     "exception": false,
     "start_time": "2024-03-26T14:58:28.283294",
     "status": "completed"
    },
    "tags": []
   },
   "outputs": [],
   "source": [
    "# defining the callbacks\n",
    "def create_callbacks():\n",
    "    callbacks = [EarlyStopping(monitor=\"loss\", min_delta=0.002, patience=10, verbose=1, mode=\"auto\", baseline=None, restore_best_weights=True,),\n",
    "                 ReduceLROnPlateau(monitor=\"loss\", factor=0.1, patience=4, verbose=1, mode=\"auto\", min_delta=0.01, cooldown=0, min_lr=1e-9)]\n",
    "    return callbacks"
   ]
  },
  {
   "cell_type": "code",
   "execution_count": 13,
   "id": "cd17cb9d",
   "metadata": {
    "execution": {
     "iopub.execute_input": "2024-03-26T14:58:28.339938Z",
     "iopub.status.busy": "2024-03-26T14:58:28.339644Z",
     "iopub.status.idle": "2024-03-26T15:44:54.417654Z",
     "shell.execute_reply": "2024-03-26T15:44:54.416727Z"
    },
    "papermill": {
     "duration": 2786.097543,
     "end_time": "2024-03-26T15:44:54.420055",
     "exception": false,
     "start_time": "2024-03-26T14:58:28.322512",
     "status": "completed"
    },
    "tags": []
   },
   "outputs": [
    {
     "name": "stdout",
     "output_type": "stream",
     "text": [
      "Epoch 1/200\n",
      "\u001b[1m830/830\u001b[0m \u001b[32m━━━━━━━━━━━━━━━━━━━━\u001b[0m\u001b[37m\u001b[0m \u001b[1m29s\u001b[0m 29ms/step - loss: 6.7269 - learning_rate: 0.0010\n",
      "Epoch 2/200\n",
      "\u001b[1m830/830\u001b[0m \u001b[32m━━━━━━━━━━━━━━━━━━━━\u001b[0m\u001b[37m\u001b[0m \u001b[1m25s\u001b[0m 30ms/step - loss: 5.4709 - learning_rate: 0.0010\n",
      "Epoch 3/200\n",
      "\u001b[1m830/830\u001b[0m \u001b[32m━━━━━━━━━━━━━━━━━━━━\u001b[0m\u001b[37m\u001b[0m \u001b[1m25s\u001b[0m 30ms/step - loss: 5.3720 - learning_rate: 0.0010\n",
      "Epoch 4/200\n",
      "\u001b[1m830/830\u001b[0m \u001b[32m━━━━━━━━━━━━━━━━━━━━\u001b[0m\u001b[37m\u001b[0m \u001b[1m26s\u001b[0m 32ms/step - loss: 5.3016 - learning_rate: 0.0010\n",
      "Epoch 5/200\n",
      "\u001b[1m830/830\u001b[0m \u001b[32m━━━━━━━━━━━━━━━━━━━━\u001b[0m\u001b[37m\u001b[0m \u001b[1m28s\u001b[0m 33ms/step - loss: 5.2704 - learning_rate: 0.0010\n",
      "Epoch 6/200\n",
      "\u001b[1m830/830\u001b[0m \u001b[32m━━━━━━━━━━━━━━━━━━━━\u001b[0m\u001b[37m\u001b[0m \u001b[1m27s\u001b[0m 32ms/step - loss: 5.2497 - learning_rate: 0.0010\n",
      "Epoch 7/200\n",
      "\u001b[1m830/830\u001b[0m \u001b[32m━━━━━━━━━━━━━━━━━━━━\u001b[0m\u001b[37m\u001b[0m \u001b[1m27s\u001b[0m 32ms/step - loss: 5.2336 - learning_rate: 0.0010\n",
      "Epoch 8/200\n",
      "\u001b[1m830/830\u001b[0m \u001b[32m━━━━━━━━━━━━━━━━━━━━\u001b[0m\u001b[37m\u001b[0m \u001b[1m27s\u001b[0m 33ms/step - loss: 5.2257 - learning_rate: 0.0010\n",
      "Epoch 9/200\n",
      "\u001b[1m830/830\u001b[0m \u001b[32m━━━━━━━━━━━━━━━━━━━━\u001b[0m\u001b[37m\u001b[0m \u001b[1m27s\u001b[0m 33ms/step - loss: 5.1927 - learning_rate: 0.0010\n",
      "Epoch 10/200\n",
      "\u001b[1m830/830\u001b[0m \u001b[32m━━━━━━━━━━━━━━━━━━━━\u001b[0m\u001b[37m\u001b[0m \u001b[1m27s\u001b[0m 32ms/step - loss: 5.1924 - learning_rate: 0.0010\n",
      "Epoch 11/200\n",
      "\u001b[1m830/830\u001b[0m \u001b[32m━━━━━━━━━━━━━━━━━━━━\u001b[0m\u001b[37m\u001b[0m \u001b[1m27s\u001b[0m 32ms/step - loss: 5.1744 - learning_rate: 0.0010\n",
      "Epoch 12/200\n",
      "\u001b[1m830/830\u001b[0m \u001b[32m━━━━━━━━━━━━━━━━━━━━\u001b[0m\u001b[37m\u001b[0m \u001b[1m27s\u001b[0m 33ms/step - loss: 5.1557 - learning_rate: 0.0010\n",
      "Epoch 13/200\n",
      "\u001b[1m830/830\u001b[0m \u001b[32m━━━━━━━━━━━━━━━━━━━━\u001b[0m\u001b[37m\u001b[0m \u001b[1m27s\u001b[0m 32ms/step - loss: 5.1360 - learning_rate: 0.0010\n",
      "Epoch 14/200\n",
      "\u001b[1m830/830\u001b[0m \u001b[32m━━━━━━━━━━━━━━━━━━━━\u001b[0m\u001b[37m\u001b[0m \u001b[1m27s\u001b[0m 32ms/step - loss: 5.1147 - learning_rate: 0.0010\n",
      "Epoch 15/200\n",
      "\u001b[1m830/830\u001b[0m \u001b[32m━━━━━━━━━━━━━━━━━━━━\u001b[0m\u001b[37m\u001b[0m \u001b[1m27s\u001b[0m 32ms/step - loss: 5.0971 - learning_rate: 0.0010\n",
      "Epoch 16/200\n",
      "\u001b[1m830/830\u001b[0m \u001b[32m━━━━━━━━━━━━━━━━━━━━\u001b[0m\u001b[37m\u001b[0m \u001b[1m27s\u001b[0m 33ms/step - loss: 5.0722 - learning_rate: 0.0010\n",
      "Epoch 17/200\n",
      "\u001b[1m830/830\u001b[0m \u001b[32m━━━━━━━━━━━━━━━━━━━━\u001b[0m\u001b[37m\u001b[0m \u001b[1m27s\u001b[0m 33ms/step - loss: 5.0446 - learning_rate: 0.0010\n",
      "Epoch 18/200\n",
      "\u001b[1m830/830\u001b[0m \u001b[32m━━━━━━━━━━━━━━━━━━━━\u001b[0m\u001b[37m\u001b[0m \u001b[1m27s\u001b[0m 32ms/step - loss: 5.0181 - learning_rate: 0.0010\n",
      "Epoch 19/200\n",
      "\u001b[1m830/830\u001b[0m \u001b[32m━━━━━━━━━━━━━━━━━━━━\u001b[0m\u001b[37m\u001b[0m \u001b[1m27s\u001b[0m 33ms/step - loss: 4.9800 - learning_rate: 0.0010\n",
      "Epoch 20/200\n",
      "\u001b[1m830/830\u001b[0m \u001b[32m━━━━━━━━━━━━━━━━━━━━\u001b[0m\u001b[37m\u001b[0m \u001b[1m27s\u001b[0m 33ms/step - loss: 4.9403 - learning_rate: 0.0010\n",
      "Epoch 21/200\n",
      "\u001b[1m830/830\u001b[0m \u001b[32m━━━━━━━━━━━━━━━━━━━━\u001b[0m\u001b[37m\u001b[0m \u001b[1m27s\u001b[0m 33ms/step - loss: 4.9188 - learning_rate: 0.0010\n",
      "Epoch 22/200\n",
      "\u001b[1m830/830\u001b[0m \u001b[32m━━━━━━━━━━━━━━━━━━━━\u001b[0m\u001b[37m\u001b[0m \u001b[1m27s\u001b[0m 33ms/step - loss: 4.8689 - learning_rate: 0.0010\n",
      "Epoch 23/200\n",
      "\u001b[1m830/830\u001b[0m \u001b[32m━━━━━━━━━━━━━━━━━━━━\u001b[0m\u001b[37m\u001b[0m \u001b[1m27s\u001b[0m 33ms/step - loss: 4.8147 - learning_rate: 0.0010\n",
      "Epoch 24/200\n",
      "\u001b[1m830/830\u001b[0m \u001b[32m━━━━━━━━━━━━━━━━━━━━\u001b[0m\u001b[37m\u001b[0m \u001b[1m27s\u001b[0m 33ms/step - loss: 4.7478 - learning_rate: 0.0010\n",
      "Epoch 25/200\n",
      "\u001b[1m830/830\u001b[0m \u001b[32m━━━━━━━━━━━━━━━━━━━━\u001b[0m\u001b[37m\u001b[0m \u001b[1m27s\u001b[0m 33ms/step - loss: 4.6298 - learning_rate: 0.0010\n",
      "Epoch 26/200\n",
      "\u001b[1m830/830\u001b[0m \u001b[32m━━━━━━━━━━━━━━━━━━━━\u001b[0m\u001b[37m\u001b[0m \u001b[1m27s\u001b[0m 33ms/step - loss: 4.4773 - learning_rate: 0.0010\n",
      "Epoch 27/200\n",
      "\u001b[1m830/830\u001b[0m \u001b[32m━━━━━━━━━━━━━━━━━━━━\u001b[0m\u001b[37m\u001b[0m \u001b[1m27s\u001b[0m 33ms/step - loss: 4.2260 - learning_rate: 0.0010\n",
      "Epoch 28/200\n",
      "\u001b[1m830/830\u001b[0m \u001b[32m━━━━━━━━━━━━━━━━━━━━\u001b[0m\u001b[37m\u001b[0m \u001b[1m27s\u001b[0m 33ms/step - loss: 3.9059 - learning_rate: 0.0010\n",
      "Epoch 29/200\n",
      "\u001b[1m830/830\u001b[0m \u001b[32m━━━━━━━━━━━━━━━━━━━━\u001b[0m\u001b[37m\u001b[0m \u001b[1m27s\u001b[0m 33ms/step - loss: 3.5634 - learning_rate: 0.0010\n",
      "Epoch 30/200\n",
      "\u001b[1m830/830\u001b[0m \u001b[32m━━━━━━━━━━━━━━━━━━━━\u001b[0m\u001b[37m\u001b[0m \u001b[1m27s\u001b[0m 33ms/step - loss: 3.2393 - learning_rate: 0.0010\n",
      "Epoch 31/200\n",
      "\u001b[1m830/830\u001b[0m \u001b[32m━━━━━━━━━━━━━━━━━━━━\u001b[0m\u001b[37m\u001b[0m \u001b[1m27s\u001b[0m 33ms/step - loss: 2.9496 - learning_rate: 0.0010\n",
      "Epoch 32/200\n",
      "\u001b[1m830/830\u001b[0m \u001b[32m━━━━━━━━━━━━━━━━━━━━\u001b[0m\u001b[37m\u001b[0m \u001b[1m27s\u001b[0m 33ms/step - loss: 2.6854 - learning_rate: 0.0010\n",
      "Epoch 33/200\n",
      "\u001b[1m830/830\u001b[0m \u001b[32m━━━━━━━━━━━━━━━━━━━━\u001b[0m\u001b[37m\u001b[0m \u001b[1m27s\u001b[0m 33ms/step - loss: 2.4301 - learning_rate: 0.0010\n",
      "Epoch 34/200\n",
      "\u001b[1m830/830\u001b[0m \u001b[32m━━━━━━━━━━━━━━━━━━━━\u001b[0m\u001b[37m\u001b[0m \u001b[1m27s\u001b[0m 33ms/step - loss: 2.2145 - learning_rate: 0.0010\n",
      "Epoch 35/200\n",
      "\u001b[1m830/830\u001b[0m \u001b[32m━━━━━━━━━━━━━━━━━━━━\u001b[0m\u001b[37m\u001b[0m \u001b[1m27s\u001b[0m 33ms/step - loss: 2.0095 - learning_rate: 0.0010\n",
      "Epoch 36/200\n",
      "\u001b[1m830/830\u001b[0m \u001b[32m━━━━━━━━━━━━━━━━━━━━\u001b[0m\u001b[37m\u001b[0m \u001b[1m27s\u001b[0m 32ms/step - loss: 1.7898 - learning_rate: 0.0010\n",
      "Epoch 37/200\n",
      "\u001b[1m830/830\u001b[0m \u001b[32m━━━━━━━━━━━━━━━━━━━━\u001b[0m\u001b[37m\u001b[0m \u001b[1m27s\u001b[0m 33ms/step - loss: 1.5835 - learning_rate: 0.0010\n",
      "Epoch 38/200\n",
      "\u001b[1m830/830\u001b[0m \u001b[32m━━━━━━━━━━━━━━━━━━━━\u001b[0m\u001b[37m\u001b[0m \u001b[1m27s\u001b[0m 33ms/step - loss: 1.4115 - learning_rate: 0.0010\n",
      "Epoch 39/200\n",
      "\u001b[1m830/830\u001b[0m \u001b[32m━━━━━━━━━━━━━━━━━━━━\u001b[0m\u001b[37m\u001b[0m \u001b[1m27s\u001b[0m 33ms/step - loss: 1.2431 - learning_rate: 0.0010\n",
      "Epoch 40/200\n",
      "\u001b[1m830/830\u001b[0m \u001b[32m━━━━━━━━━━━━━━━━━━━━\u001b[0m\u001b[37m\u001b[0m \u001b[1m27s\u001b[0m 33ms/step - loss: 1.1012 - learning_rate: 0.0010\n",
      "Epoch 41/200\n",
      "\u001b[1m830/830\u001b[0m \u001b[32m━━━━━━━━━━━━━━━━━━━━\u001b[0m\u001b[37m\u001b[0m \u001b[1m27s\u001b[0m 33ms/step - loss: 0.9500 - learning_rate: 0.0010\n",
      "Epoch 42/200\n",
      "\u001b[1m830/830\u001b[0m \u001b[32m━━━━━━━━━━━━━━━━━━━━\u001b[0m\u001b[37m\u001b[0m \u001b[1m27s\u001b[0m 33ms/step - loss: 0.8308 - learning_rate: 0.0010\n",
      "Epoch 43/200\n",
      "\u001b[1m830/830\u001b[0m \u001b[32m━━━━━━━━━━━━━━━━━━━━\u001b[0m\u001b[37m\u001b[0m \u001b[1m27s\u001b[0m 33ms/step - loss: 0.7260 - learning_rate: 0.0010\n",
      "Epoch 44/200\n",
      "\u001b[1m830/830\u001b[0m \u001b[32m━━━━━━━━━━━━━━━━━━━━\u001b[0m\u001b[37m\u001b[0m \u001b[1m27s\u001b[0m 33ms/step - loss: 0.6407 - learning_rate: 0.0010\n",
      "Epoch 45/200\n",
      "\u001b[1m830/830\u001b[0m \u001b[32m━━━━━━━━━━━━━━━━━━━━\u001b[0m\u001b[37m\u001b[0m \u001b[1m27s\u001b[0m 33ms/step - loss: 0.5710 - learning_rate: 0.0010\n",
      "Epoch 46/200\n",
      "\u001b[1m830/830\u001b[0m \u001b[32m━━━━━━━━━━━━━━━━━━━━\u001b[0m\u001b[37m\u001b[0m \u001b[1m27s\u001b[0m 33ms/step - loss: 0.5062 - learning_rate: 0.0010\n",
      "Epoch 47/200\n",
      "\u001b[1m830/830\u001b[0m \u001b[32m━━━━━━━━━━━━━━━━━━━━\u001b[0m\u001b[37m\u001b[0m \u001b[1m27s\u001b[0m 33ms/step - loss: 0.4779 - learning_rate: 0.0010\n",
      "Epoch 48/200\n",
      "\u001b[1m830/830\u001b[0m \u001b[32m━━━━━━━━━━━━━━━━━━━━\u001b[0m\u001b[37m\u001b[0m \u001b[1m27s\u001b[0m 33ms/step - loss: 0.4208 - learning_rate: 0.0010\n",
      "Epoch 49/200\n",
      "\u001b[1m830/830\u001b[0m \u001b[32m━━━━━━━━━━━━━━━━━━━━\u001b[0m\u001b[37m\u001b[0m \u001b[1m27s\u001b[0m 33ms/step - loss: 0.3948 - learning_rate: 0.0010\n",
      "Epoch 50/200\n",
      "\u001b[1m830/830\u001b[0m \u001b[32m━━━━━━━━━━━━━━━━━━━━\u001b[0m\u001b[37m\u001b[0m \u001b[1m27s\u001b[0m 33ms/step - loss: 0.3646 - learning_rate: 0.0010\n",
      "Epoch 51/200\n",
      "\u001b[1m830/830\u001b[0m \u001b[32m━━━━━━━━━━━━━━━━━━━━\u001b[0m\u001b[37m\u001b[0m \u001b[1m27s\u001b[0m 33ms/step - loss: 0.3448 - learning_rate: 0.0010\n",
      "Epoch 52/200\n",
      "\u001b[1m830/830\u001b[0m \u001b[32m━━━━━━━━━━━━━━━━━━━━\u001b[0m\u001b[37m\u001b[0m \u001b[1m27s\u001b[0m 33ms/step - loss: 0.3499 - learning_rate: 0.0010\n",
      "Epoch 53/200\n",
      "\u001b[1m830/830\u001b[0m \u001b[32m━━━━━━━━━━━━━━━━━━━━\u001b[0m\u001b[37m\u001b[0m \u001b[1m27s\u001b[0m 33ms/step - loss: 0.2915 - learning_rate: 0.0010\n",
      "Epoch 54/200\n",
      "\u001b[1m830/830\u001b[0m \u001b[32m━━━━━━━━━━━━━━━━━━━━\u001b[0m\u001b[37m\u001b[0m \u001b[1m27s\u001b[0m 33ms/step - loss: 0.3006 - learning_rate: 0.0010\n",
      "Epoch 55/200\n",
      "\u001b[1m830/830\u001b[0m \u001b[32m━━━━━━━━━━━━━━━━━━━━\u001b[0m\u001b[37m\u001b[0m \u001b[1m27s\u001b[0m 33ms/step - loss: 0.2912 - learning_rate: 0.0010\n",
      "Epoch 56/200\n",
      "\u001b[1m830/830\u001b[0m \u001b[32m━━━━━━━━━━━━━━━━━━━━\u001b[0m\u001b[37m\u001b[0m \u001b[1m27s\u001b[0m 33ms/step - loss: 0.2677 - learning_rate: 0.0010\n",
      "Epoch 57/200\n",
      "\u001b[1m830/830\u001b[0m \u001b[32m━━━━━━━━━━━━━━━━━━━━\u001b[0m\u001b[37m\u001b[0m \u001b[1m27s\u001b[0m 33ms/step - loss: 0.2613 - learning_rate: 0.0010\n",
      "Epoch 58/200\n",
      "\u001b[1m830/830\u001b[0m \u001b[32m━━━━━━━━━━━━━━━━━━━━\u001b[0m\u001b[37m\u001b[0m \u001b[1m27s\u001b[0m 33ms/step - loss: 0.2431 - learning_rate: 0.0010\n",
      "Epoch 59/200\n",
      "\u001b[1m830/830\u001b[0m \u001b[32m━━━━━━━━━━━━━━━━━━━━\u001b[0m\u001b[37m\u001b[0m \u001b[1m27s\u001b[0m 33ms/step - loss: 0.2515 - learning_rate: 0.0010\n",
      "Epoch 60/200\n",
      "\u001b[1m830/830\u001b[0m \u001b[32m━━━━━━━━━━━━━━━━━━━━\u001b[0m\u001b[37m\u001b[0m \u001b[1m27s\u001b[0m 33ms/step - loss: 0.2283 - learning_rate: 0.0010\n",
      "Epoch 61/200\n",
      "\u001b[1m830/830\u001b[0m \u001b[32m━━━━━━━━━━━━━━━━━━━━\u001b[0m\u001b[37m\u001b[0m \u001b[1m27s\u001b[0m 33ms/step - loss: 0.2318 - learning_rate: 0.0010\n",
      "Epoch 62/200\n",
      "\u001b[1m830/830\u001b[0m \u001b[32m━━━━━━━━━━━━━━━━━━━━\u001b[0m\u001b[37m\u001b[0m \u001b[1m27s\u001b[0m 33ms/step - loss: 0.2432 - learning_rate: 0.0010\n",
      "Epoch 63/200\n",
      "\u001b[1m830/830\u001b[0m \u001b[32m━━━━━━━━━━━━━━━━━━━━\u001b[0m\u001b[37m\u001b[0m \u001b[1m27s\u001b[0m 33ms/step - loss: 0.2088 - learning_rate: 0.0010\n",
      "Epoch 64/200\n",
      "\u001b[1m830/830\u001b[0m \u001b[32m━━━━━━━━━━━━━━━━━━━━\u001b[0m\u001b[37m\u001b[0m \u001b[1m27s\u001b[0m 33ms/step - loss: 0.2160 - learning_rate: 0.0010\n",
      "Epoch 65/200\n",
      "\u001b[1m830/830\u001b[0m \u001b[32m━━━━━━━━━━━━━━━━━━━━\u001b[0m\u001b[37m\u001b[0m \u001b[1m27s\u001b[0m 33ms/step - loss: 0.1984 - learning_rate: 0.0010\n",
      "Epoch 66/200\n",
      "\u001b[1m830/830\u001b[0m \u001b[32m━━━━━━━━━━━━━━━━━━━━\u001b[0m\u001b[37m\u001b[0m \u001b[1m27s\u001b[0m 33ms/step - loss: 0.2165 - learning_rate: 0.0010\n",
      "Epoch 67/200\n",
      "\u001b[1m830/830\u001b[0m \u001b[32m━━━━━━━━━━━━━━━━━━━━\u001b[0m\u001b[37m\u001b[0m \u001b[1m27s\u001b[0m 33ms/step - loss: 0.1821 - learning_rate: 0.0010\n",
      "Epoch 68/200\n",
      "\u001b[1m830/830\u001b[0m \u001b[32m━━━━━━━━━━━━━━━━━━━━\u001b[0m\u001b[37m\u001b[0m \u001b[1m27s\u001b[0m 33ms/step - loss: 0.1888 - learning_rate: 0.0010\n",
      "Epoch 69/200\n",
      "\u001b[1m830/830\u001b[0m \u001b[32m━━━━━━━━━━━━━━━━━━━━\u001b[0m\u001b[37m\u001b[0m \u001b[1m27s\u001b[0m 33ms/step - loss: 0.1814 - learning_rate: 0.0010\n",
      "Epoch 70/200\n",
      "\u001b[1m830/830\u001b[0m \u001b[32m━━━━━━━━━━━━━━━━━━━━\u001b[0m\u001b[37m\u001b[0m \u001b[1m27s\u001b[0m 33ms/step - loss: 0.1813 - learning_rate: 0.0010\n",
      "Epoch 71/200\n",
      "\u001b[1m830/830\u001b[0m \u001b[32m━━━━━━━━━━━━━━━━━━━━\u001b[0m\u001b[37m\u001b[0m \u001b[1m27s\u001b[0m 33ms/step - loss: 0.1929 - learning_rate: 0.0010\n",
      "Epoch 72/200\n",
      "\u001b[1m830/830\u001b[0m \u001b[32m━━━━━━━━━━━━━━━━━━━━\u001b[0m\u001b[37m\u001b[0m \u001b[1m27s\u001b[0m 33ms/step - loss: 0.1567 - learning_rate: 0.0010\n",
      "Epoch 73/200\n",
      "\u001b[1m830/830\u001b[0m \u001b[32m━━━━━━━━━━━━━━━━━━━━\u001b[0m\u001b[37m\u001b[0m \u001b[1m27s\u001b[0m 33ms/step - loss: 0.1866 - learning_rate: 0.0010\n",
      "Epoch 74/200\n",
      "\u001b[1m830/830\u001b[0m \u001b[32m━━━━━━━━━━━━━━━━━━━━\u001b[0m\u001b[37m\u001b[0m \u001b[1m27s\u001b[0m 33ms/step - loss: 0.1579 - learning_rate: 0.0010\n",
      "Epoch 75/200\n",
      "\u001b[1m830/830\u001b[0m \u001b[32m━━━━━━━━━━━━━━━━━━━━\u001b[0m\u001b[37m\u001b[0m \u001b[1m27s\u001b[0m 33ms/step - loss: 0.1615 - learning_rate: 0.0010\n",
      "Epoch 76/200\n",
      "\u001b[1m829/830\u001b[0m \u001b[32m━━━━━━━━━━━━━━━━━━━\u001b[0m\u001b[37m━\u001b[0m \u001b[1m0s\u001b[0m 33ms/step - loss: 0.1538\n",
      "Epoch 76: ReduceLROnPlateau reducing learning rate to 0.00010000000474974513.\n",
      "\u001b[1m830/830\u001b[0m \u001b[32m━━━━━━━━━━━━━━━━━━━━\u001b[0m\u001b[37m\u001b[0m \u001b[1m27s\u001b[0m 33ms/step - loss: 0.1538 - learning_rate: 0.0010\n",
      "Epoch 77/200\n",
      "\u001b[1m830/830\u001b[0m \u001b[32m━━━━━━━━━━━━━━━━━━━━\u001b[0m\u001b[37m\u001b[0m \u001b[1m27s\u001b[0m 33ms/step - loss: 0.1013 - learning_rate: 1.0000e-04\n",
      "Epoch 78/200\n",
      "\u001b[1m830/830\u001b[0m \u001b[32m━━━━━━━━━━━━━━━━━━━━\u001b[0m\u001b[37m\u001b[0m \u001b[1m27s\u001b[0m 33ms/step - loss: 0.0404 - learning_rate: 1.0000e-04\n",
      "Epoch 79/200\n",
      "\u001b[1m830/830\u001b[0m \u001b[32m━━━━━━━━━━━━━━━━━━━━\u001b[0m\u001b[37m\u001b[0m \u001b[1m27s\u001b[0m 33ms/step - loss: 0.0306 - learning_rate: 1.0000e-04\n",
      "Epoch 80/200\n",
      "\u001b[1m830/830\u001b[0m \u001b[32m━━━━━━━━━━━━━━━━━━━━\u001b[0m\u001b[37m\u001b[0m \u001b[1m27s\u001b[0m 33ms/step - loss: 0.0259 - learning_rate: 1.0000e-04\n",
      "Epoch 81/200\n",
      "\u001b[1m830/830\u001b[0m \u001b[32m━━━━━━━━━━━━━━━━━━━━\u001b[0m\u001b[37m\u001b[0m \u001b[1m27s\u001b[0m 33ms/step - loss: 0.0261 - learning_rate: 1.0000e-04\n",
      "Epoch 82/200\n",
      "\u001b[1m830/830\u001b[0m \u001b[32m━━━━━━━━━━━━━━━━━━━━\u001b[0m\u001b[37m\u001b[0m \u001b[1m27s\u001b[0m 33ms/step - loss: 0.0249 - learning_rate: 1.0000e-04\n",
      "Epoch 83/200\n",
      "\u001b[1m830/830\u001b[0m \u001b[32m━━━━━━━━━━━━━━━━━━━━\u001b[0m\u001b[37m\u001b[0m \u001b[1m41s\u001b[0m 33ms/step - loss: 0.0261 - learning_rate: 1.0000e-04\n",
      "Epoch 84/200\n",
      "\u001b[1m829/830\u001b[0m \u001b[32m━━━━━━━━━━━━━━━━━━━\u001b[0m\u001b[37m━\u001b[0m \u001b[1m0s\u001b[0m 33ms/step - loss: 0.0260\n",
      "Epoch 84: ReduceLROnPlateau reducing learning rate to 1.0000000474974514e-05.\n",
      "\u001b[1m830/830\u001b[0m \u001b[32m━━━━━━━━━━━━━━━━━━━━\u001b[0m\u001b[37m\u001b[0m \u001b[1m28s\u001b[0m 33ms/step - loss: 0.0260 - learning_rate: 1.0000e-04\n",
      "Epoch 85/200\n",
      "\u001b[1m830/830\u001b[0m \u001b[32m━━━━━━━━━━━━━━━━━━━━\u001b[0m\u001b[37m\u001b[0m \u001b[1m27s\u001b[0m 32ms/step - loss: 0.0210 - learning_rate: 1.0000e-05\n",
      "Epoch 86/200\n",
      "\u001b[1m830/830\u001b[0m \u001b[32m━━━━━━━━━━━━━━━━━━━━\u001b[0m\u001b[37m\u001b[0m \u001b[1m27s\u001b[0m 33ms/step - loss: 0.0194 - learning_rate: 1.0000e-05\n",
      "Epoch 87/200\n",
      "\u001b[1m830/830\u001b[0m \u001b[32m━━━━━━━━━━━━━━━━━━━━\u001b[0m\u001b[37m\u001b[0m \u001b[1m27s\u001b[0m 33ms/step - loss: 0.0190 - learning_rate: 1.0000e-05\n",
      "Epoch 88/200\n",
      "\u001b[1m830/830\u001b[0m \u001b[32m━━━━━━━━━━━━━━━━━━━━\u001b[0m\u001b[37m\u001b[0m \u001b[1m27s\u001b[0m 33ms/step - loss: 0.0175 - learning_rate: 1.0000e-05\n",
      "Epoch 89/200\n",
      "\u001b[1m830/830\u001b[0m \u001b[32m━━━━━━━━━━━━━━━━━━━━\u001b[0m\u001b[37m\u001b[0m \u001b[1m27s\u001b[0m 33ms/step - loss: 0.0171 - learning_rate: 1.0000e-05\n",
      "Epoch 90/200\n",
      "\u001b[1m830/830\u001b[0m \u001b[32m━━━━━━━━━━━━━━━━━━━━\u001b[0m\u001b[37m\u001b[0m \u001b[1m27s\u001b[0m 33ms/step - loss: 0.0167 - learning_rate: 1.0000e-05\n",
      "Epoch 91/200\n",
      "\u001b[1m830/830\u001b[0m \u001b[32m━━━━━━━━━━━━━━━━━━━━\u001b[0m\u001b[37m\u001b[0m \u001b[1m27s\u001b[0m 33ms/step - loss: 0.0167 - learning_rate: 1.0000e-05\n",
      "Epoch 92/200\n",
      "\u001b[1m829/830\u001b[0m \u001b[32m━━━━━━━━━━━━━━━━━━━\u001b[0m\u001b[37m━\u001b[0m \u001b[1m0s\u001b[0m 33ms/step - loss: 0.0159\n",
      "Epoch 92: ReduceLROnPlateau reducing learning rate to 1.0000000656873453e-06.\n",
      "\u001b[1m830/830\u001b[0m \u001b[32m━━━━━━━━━━━━━━━━━━━━\u001b[0m\u001b[37m\u001b[0m \u001b[1m27s\u001b[0m 33ms/step - loss: 0.0159 - learning_rate: 1.0000e-05\n",
      "Epoch 93/200\n",
      "\u001b[1m830/830\u001b[0m \u001b[32m━━━━━━━━━━━━━━━━━━━━\u001b[0m\u001b[37m\u001b[0m \u001b[1m27s\u001b[0m 33ms/step - loss: 0.0169 - learning_rate: 1.0000e-06\n",
      "Epoch 94/200\n",
      "\u001b[1m830/830\u001b[0m \u001b[32m━━━━━━━━━━━━━━━━━━━━\u001b[0m\u001b[37m\u001b[0m \u001b[1m27s\u001b[0m 33ms/step - loss: 0.0173 - learning_rate: 1.0000e-06\n",
      "Epoch 95/200\n",
      "\u001b[1m830/830\u001b[0m \u001b[32m━━━━━━━━━━━━━━━━━━━━\u001b[0m\u001b[37m\u001b[0m \u001b[1m27s\u001b[0m 33ms/step - loss: 0.0176 - learning_rate: 1.0000e-06\n",
      "Epoch 96/200\n",
      "\u001b[1m829/830\u001b[0m \u001b[32m━━━━━━━━━━━━━━━━━━━\u001b[0m\u001b[37m━\u001b[0m \u001b[1m0s\u001b[0m 33ms/step - loss: 0.0165\n",
      "Epoch 96: ReduceLROnPlateau reducing learning rate to 1.0000001111620805e-07.\n",
      "\u001b[1m830/830\u001b[0m \u001b[32m━━━━━━━━━━━━━━━━━━━━\u001b[0m\u001b[37m\u001b[0m \u001b[1m27s\u001b[0m 33ms/step - loss: 0.0165 - learning_rate: 1.0000e-06\n",
      "Epoch 97/200\n",
      "\u001b[1m830/830\u001b[0m \u001b[32m━━━━━━━━━━━━━━━━━━━━\u001b[0m\u001b[37m\u001b[0m \u001b[1m27s\u001b[0m 33ms/step - loss: 0.0150 - learning_rate: 1.0000e-07\n",
      "Epoch 98/200\n",
      "\u001b[1m830/830\u001b[0m \u001b[32m━━━━━━━━━━━━━━━━━━━━\u001b[0m\u001b[37m\u001b[0m \u001b[1m27s\u001b[0m 33ms/step - loss: 0.0176 - learning_rate: 1.0000e-07\n",
      "Epoch 99/200\n",
      "\u001b[1m830/830\u001b[0m \u001b[32m━━━━━━━━━━━━━━━━━━━━\u001b[0m\u001b[37m\u001b[0m \u001b[1m27s\u001b[0m 33ms/step - loss: 0.0162 - learning_rate: 1.0000e-07\n",
      "Epoch 100/200\n",
      "\u001b[1m829/830\u001b[0m \u001b[32m━━━━━━━━━━━━━━━━━━━\u001b[0m\u001b[37m━\u001b[0m \u001b[1m0s\u001b[0m 33ms/step - loss: 0.0162\n",
      "Epoch 100: ReduceLROnPlateau reducing learning rate to 1.000000082740371e-08.\n",
      "\u001b[1m830/830\u001b[0m \u001b[32m━━━━━━━━━━━━━━━━━━━━\u001b[0m\u001b[37m\u001b[0m \u001b[1m27s\u001b[0m 33ms/step - loss: 0.0162 - learning_rate: 1.0000e-07\n",
      "Epoch 101/200\n",
      "\u001b[1m830/830\u001b[0m \u001b[32m━━━━━━━━━━━━━━━━━━━━\u001b[0m\u001b[37m\u001b[0m \u001b[1m27s\u001b[0m 33ms/step - loss: 0.0159 - learning_rate: 1.0000e-08\n",
      "Epoch 102/200\n",
      "\u001b[1m830/830\u001b[0m \u001b[32m━━━━━━━━━━━━━━━━━━━━\u001b[0m\u001b[37m\u001b[0m \u001b[1m27s\u001b[0m 33ms/step - loss: 0.0147 - learning_rate: 1.0000e-08\n",
      "Epoch 102: early stopping\n",
      "Restoring model weights from the end of the best epoch: 92.\n"
     ]
    }
   ],
   "source": [
    "num_epochs = 200 # number of epochs to train\n",
    "batch_size = 96\n",
    "callbacks = create_callbacks()\n",
    "history = model.fit(x_train, y_train, batch_size=batch_size,epochs=num_epochs, callbacks=callbacks, verbose=1)"
   ]
  },
  {
   "cell_type": "markdown",
   "id": "c6c56243",
   "metadata": {
    "papermill": {
     "duration": 3.877086,
     "end_time": "2024-03-26T15:45:02.142036",
     "exception": false,
     "start_time": "2024-03-26T15:44:58.264950",
     "status": "completed"
    },
    "tags": []
   },
   "source": [
    "### Saving the model"
   ]
  },
  {
   "cell_type": "code",
   "execution_count": 14,
   "id": "17bc6b66",
   "metadata": {
    "execution": {
     "iopub.execute_input": "2024-03-26T15:45:09.862267Z",
     "iopub.status.busy": "2024-03-26T15:45:09.861902Z",
     "iopub.status.idle": "2024-03-26T15:45:10.076556Z",
     "shell.execute_reply": "2024-03-26T15:45:10.075762Z"
    },
    "papermill": {
     "duration": 4.030557,
     "end_time": "2024-03-26T15:45:10.078914",
     "exception": false,
     "start_time": "2024-03-26T15:45:06.048357",
     "status": "completed"
    },
    "tags": []
   },
   "outputs": [],
   "source": [
    "path_to_save = '/kaggle/working/'\n",
    "filename = dataset.name+f\"_{dataset.length}\"\n",
    "save_model_as_json_h5(path_to_save, filename, model)"
   ]
  },
  {
   "cell_type": "markdown",
   "id": "87a76d0a",
   "metadata": {
    "papermill": {
     "duration": 3.953327,
     "end_time": "2024-03-26T15:45:17.892701",
     "exception": false,
     "start_time": "2024-03-26T15:45:13.939374",
     "status": "completed"
    },
    "tags": []
   },
   "source": [
    "### Train Plot"
   ]
  },
  {
   "cell_type": "code",
   "execution_count": 15,
   "id": "4177e8b0",
   "metadata": {
    "execution": {
     "iopub.execute_input": "2024-03-26T15:45:25.675695Z",
     "iopub.status.busy": "2024-03-26T15:45:25.674914Z",
     "iopub.status.idle": "2024-03-26T15:45:26.105710Z",
     "shell.execute_reply": "2024-03-26T15:45:26.104687Z"
    },
    "papermill": {
     "duration": 4.284632,
     "end_time": "2024-03-26T15:45:26.107874",
     "exception": false,
     "start_time": "2024-03-26T15:45:21.823242",
     "status": "completed"
    },
    "tags": []
   },
   "outputs": [
    {
     "data": {
      "image/png": "[encoded data removed]",
      "text/plain": [
       "<Figure size 640x480 with 1 Axes>"
      ]
     },
     "metadata": {
      "image/png": {
       "height": 454,
       "width": 554
      }
     },
     "output_type": "display_data"
    },
    {
     "data": {
      "text/plain": [
       "<Figure size 640x480 with 0 Axes>"
      ]
     },
     "metadata": {},
     "output_type": "display_data"
    }
   ],
   "source": [
    "def make_train_plot():\n",
    "    train_loss = history.history['loss']\n",
    "    epochs = range(1, len(train_loss) + 1)\n",
    "    plt.plot(epochs, train_loss, 'b', label='Training loss')\n",
    "    plt.title('Training Loss')\n",
    "    plt.xlabel('Epochs')\n",
    "    plt.ylabel('Loss')\n",
    "    plt.legend()\n",
    "    plt.show()\n",
    "    plt.savefig(path_to_save+f'/{name}_{dataset.length}.png')\n",
    "make_train_plot()"
   ]
  },
  {
   "cell_type": "markdown",
   "id": "98f3c179",
   "metadata": {
    "papermill": {
     "duration": 3.909301,
     "end_time": "2024-03-26T15:45:33.905228",
     "exception": false,
     "start_time": "2024-03-26T15:45:29.995927",
     "status": "completed"
    },
    "tags": []
   },
   "source": [
    "## Generate Music using the trained model"
   ]
  },
  {
   "cell_type": "markdown",
   "id": "12c0cf7b",
   "metadata": {
    "papermill": {
     "duration": 3.897915,
     "end_time": "2024-03-26T15:45:41.613029",
     "exception": false,
     "start_time": "2024-03-26T15:45:37.715114",
     "status": "completed"
    },
    "tags": []
   },
   "source": [
    "We can generate the music using the Generator class from the utils1.music_utils module (user-defined) using x_gen (samples kept aside for generation), the dataset which also contains necessary mappings that are required for converting the encoded values back to notes and chords."
   ]
  },
  {
   "cell_type": "code",
   "execution_count": 16,
   "id": "66ec816d",
   "metadata": {
    "execution": {
     "iopub.execute_input": "2024-03-26T15:45:49.351144Z",
     "iopub.status.busy": "2024-03-26T15:45:49.350160Z",
     "iopub.status.idle": "2024-03-26T15:45:49.355031Z",
     "shell.execute_reply": "2024-03-26T15:45:49.354007Z"
    },
    "papermill": {
     "duration": 3.986762,
     "end_time": "2024-03-26T15:45:49.357293",
     "exception": false,
     "start_time": "2024-03-26T15:45:45.370531",
     "status": "completed"
    },
    "tags": []
   },
   "outputs": [],
   "source": [
    "# creating generator object\n",
    "generator = Generator(model, x_gen, dataset)"
   ]
  },
  {
   "cell_type": "markdown",
   "id": "8fcfeae1",
   "metadata": {
    "papermill": {
     "duration": 3.819293,
     "end_time": "2024-03-26T15:45:57.036290",
     "exception": false,
     "start_time": "2024-03-26T15:45:53.216997",
     "status": "completed"
    },
    "tags": []
   },
   "source": [
    "## Creating a playlist of music"
   ]
  },
  {
   "cell_type": "markdown",
   "id": "fc1dac26",
   "metadata": {
    "papermill": {
     "duration": 3.852369,
     "end_time": "2024-03-26T15:46:04.702183",
     "exception": false,
     "start_time": "2024-03-26T15:46:00.849814",
     "status": "completed"
    },
    "tags": []
   },
   "source": [
    "With the code below, you can create a playlist of compositions. Adjust the note_count to determine the duration of the music. Additionally, modify the num_songs to specify the number of compositions you want to create."
   ]
  },
  {
   "cell_type": "code",
   "execution_count": 17,
   "id": "442b2249",
   "metadata": {
    "execution": {
     "iopub.execute_input": "2024-03-26T15:46:12.209056Z",
     "iopub.status.busy": "2024-03-26T15:46:12.208687Z",
     "iopub.status.idle": "2024-03-26T15:48:18.318498Z",
     "shell.execute_reply": "2024-03-26T15:48:18.317671Z"
    },
    "papermill": {
     "duration": 129.878324,
     "end_time": "2024-03-26T15:48:18.320962",
     "exception": false,
     "start_time": "2024-03-26T15:46:08.442638",
     "status": "completed"
    },
    "tags": []
   },
   "outputs": [],
   "source": [
    "count = 0\n",
    "note_count = 200\n",
    "num_songs = 10\n",
    "generator.create_playlist(num_songs, note_count, direc_name = path_to_save+f\"/music{count}\", zip_file=True)\n",
    "count+=1"
   ]
  },
  {
   "cell_type": "markdown",
   "id": "b743ad1b",
   "metadata": {
    "papermill": {
     "duration": 3.904197,
     "end_time": "2024-03-26T15:48:26.125609",
     "exception": false,
     "start_time": "2024-03-26T15:48:22.221412",
     "status": "completed"
    },
    "tags": []
   },
   "source": [
    "### Checkout the music! Let me know in the comments.\n",
    "### Also, download the model (both .json and .h5 file) and the generate set file to further be able to generate music without training again.\n",
    "## Checkout furthermore for utility at [GitHub](https://github.com/Praneeth74/Music-Generation-using-LSTMs)"
   ]
  }
 ],
 "metadata": {
  "kaggle": {
   "accelerator": "nvidiaTeslaT4",
   "dataSources": [
    {
     "datasetId": 196294,
     "sourceId": 434491,
     "sourceType": "datasetVersion"
    },
    {
     "datasetId": 4652527,
     "sourceId": 7917821,
     "sourceType": "datasetVersion"
    },
    {
     "datasetId": 4652459,
     "sourceId": 7930621,
     "sourceType": "datasetVersion"
    },
    {
     "datasetId": 4652529,
     "sourceId": 7930635,
     "sourceType": "datasetVersion"
    }
   ],
   "dockerImageVersionId": 30674,
   "isGpuEnabled": true,
   "isInternetEnabled": true,
   "language": "python",
   "sourceType": "notebook"
  },
  "kernelspec": {
   "display_name": "Python 3",
   "language": "python",
   "name": "python3"
  },
  "language_info": {
   "codemirror_mode": {
    "name": "ipython",
    "version": 3
   },
   "file_extension": ".py",
   "mimetype": "text/x-python",
   "name": "python",
   "nbconvert_exporter": "python",
   "pygments_lexer": "ipython3",
   "version": "3.10.13"
  },
  "papermill": {
   "default_parameters": {},
   "duration": 3057.806069,
   "end_time": "2024-03-26T15:48:33.274851",
   "environment_variables": {},
   "exception": null,
   "input_path": "__notebook__.ipynb",
   "output_path": "__notebook__.ipynb",
   "parameters": {},
   "start_time": "2024-03-26T14:57:35.468782",
   "version": "2.5.0"
  }
 },
 "nbformat": 4,
 "nbformat_minor": 5
}
